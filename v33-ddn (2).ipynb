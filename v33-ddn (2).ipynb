{
 "cells": [
  {
   "cell_type": "code",
   "execution_count": 1,
   "id": "74da5083",
   "metadata": {
    "_cell_guid": "b1076dfc-b9ad-4769-8c92-a6c4dae69d19",
    "_uuid": "8f2839f25d086af736a60e9eeb907d3b93b6e0e5",
    "execution": {
     "iopub.execute_input": "2025-05-08T11:41:59.977280Z",
     "iopub.status.busy": "2025-05-08T11:41:59.976635Z",
     "iopub.status.idle": "2025-05-08T11:42:05.395744Z",
     "shell.execute_reply": "2025-05-08T11:42:05.394305Z"
    },
    "papermill": {
     "duration": 5.426685,
     "end_time": "2025-05-08T11:42:05.398713",
     "exception": false,
     "start_time": "2025-05-08T11:41:59.972028",
     "status": "completed"
    },
    "tags": []
   },
   "outputs": [],
   "source": [
    "!pip install librosa --quiet"
   ]
  },
  {
   "cell_type": "code",
   "execution_count": 2,
   "id": "761e8f06",
   "metadata": {
    "execution": {
     "iopub.execute_input": "2025-05-08T11:42:05.406455Z",
     "iopub.status.busy": "2025-05-08T11:42:05.406038Z",
     "iopub.status.idle": "2025-05-08T11:42:53.710090Z",
     "shell.execute_reply": "2025-05-08T11:42:53.708830Z"
    },
    "papermill": {
     "duration": 48.310316,
     "end_time": "2025-05-08T11:42:53.712144",
     "exception": false,
     "start_time": "2025-05-08T11:42:05.401828",
     "status": "completed"
    },
    "tags": []
   },
   "outputs": [],
   "source": [
    "import os\n",
    "import re\n",
    "import librosa\n",
    "import numpy as np\n",
    "import pandas as pd\n",
    "from nltk.tokenize import word_tokenize\n",
    "from nltk.corpus import stopwords\n",
    "from nltk.stem import WordNetLemmatizer\n",
    "import gensim.downloader as api\n",
    "from scipy.io import wavfile\n"
   ]
  },
  {
   "cell_type": "code",
   "execution_count": 3,
   "id": "4155a70c",
   "metadata": {
    "execution": {
     "iopub.execute_input": "2025-05-08T11:42:53.721116Z",
     "iopub.status.busy": "2025-05-08T11:42:53.720459Z",
     "iopub.status.idle": "2025-05-08T11:42:57.465215Z",
     "shell.execute_reply": "2025-05-08T11:42:57.463553Z"
    },
    "papermill": {
     "duration": 3.751126,
     "end_time": "2025-05-08T11:42:57.467143",
     "exception": false,
     "start_time": "2025-05-08T11:42:53.716017",
     "status": "completed"
    },
    "tags": []
   },
   "outputs": [
    {
     "name": "stdout",
     "output_type": "stream",
     "text": [
      "Requirement already satisfied: nltk in /usr/local/lib/python3.11/dist-packages (3.9.1)\r\n",
      "Requirement already satisfied: click in /usr/local/lib/python3.11/dist-packages (from nltk) (8.1.8)\r\n",
      "Requirement already satisfied: joblib in /usr/local/lib/python3.11/dist-packages (from nltk) (1.4.2)\r\n",
      "Requirement already satisfied: regex>=2021.8.3 in /usr/local/lib/python3.11/dist-packages (from nltk) (2024.11.6)\r\n",
      "Requirement already satisfied: tqdm in /usr/local/lib/python3.11/dist-packages (from nltk) (4.67.1)\r\n"
     ]
    }
   ],
   "source": [
    "!pip install nltk"
   ]
  },
  {
   "cell_type": "code",
   "execution_count": 4,
   "id": "109834db",
   "metadata": {
    "execution": {
     "iopub.execute_input": "2025-05-08T11:42:57.475459Z",
     "iopub.status.busy": "2025-05-08T11:42:57.474365Z",
     "iopub.status.idle": "2025-05-08T11:43:25.413999Z",
     "shell.execute_reply": "2025-05-08T11:43:25.412935Z"
    },
    "papermill": {
     "duration": 27.945662,
     "end_time": "2025-05-08T11:43:25.415681",
     "exception": false,
     "start_time": "2025-05-08T11:42:57.470019",
     "status": "completed"
    },
    "tags": []
   },
   "outputs": [
    {
     "name": "stderr",
     "output_type": "stream",
     "text": [
      "[nltk_data] Downloading package punkt to /usr/share/nltk_data...\n",
      "[nltk_data]   Package punkt is already up-to-date!\n",
      "[nltk_data] Downloading package stopwords to /usr/share/nltk_data...\n",
      "[nltk_data]   Package stopwords is already up-to-date!\n",
      "[nltk_data] Downloading package wordnet to /usr/share/nltk_data...\n",
      "[nltk_data]   Package wordnet is already up-to-date!\n"
     ]
    },
    {
     "name": "stdout",
     "output_type": "stream",
     "text": [
      "[==================================================] 100.0% 66.0/66.0MB downloaded\n"
     ]
    }
   ],
   "source": [
    "import nltk\n",
    "nltk.download('punkt')\n",
    "nltk.download('stopwords')\n",
    "nltk.download('wordnet')\n",
    "\n",
    "stop_words = set(stopwords.words('english'))\n",
    "lemmatizer = WordNetLemmatizer()\n",
    "embedding_model = api.load(\"glove-wiki-gigaword-50\")\n",
    "vector_size = 50\n",
    "\n",
    "def preprocess_text(text, max_len=9):\n",
    "    text = re.sub(r'[^\\w\\s]', '', text)\n",
    "    text = re.sub(r'\\d+', '', text)\n",
    "    text = text.lower().strip()\n",
    "    tokens = word_tokenize(text)\n",
    "    tokens = [lemmatizer.lemmatize(word) for word in tokens if word not in stop_words]\n",
    "    \n",
    "    vectors = []\n",
    "    for word in tokens[:max_len]:\n",
    "        if word in embedding_model:\n",
    "            vectors.append(embedding_model[word])\n",
    "        else:\n",
    "            vectors.append(np.zeros(vector_size))\n",
    "    while len(vectors) < max_len:\n",
    "        vectors.append(np.zeros(vector_size))\n",
    "    return np.array(vectors)\n",
    "\n",
    "def extract_audio_features(audio_path, start, end, sr=16000):\n",
    "    audio, _ = librosa.load(audio_path, sr=sr)\n",
    "    start_sample = int(start * sr)\n",
    "    end_sample = int(end * sr)\n",
    "    segment = audio[start_sample:end_sample]\n",
    "    \n",
    "    # MFCCs shape = (n_mfcc, time_frames)\n",
    "    mfcc = librosa.feature.mfcc(y=segment, sr=sr, n_mfcc=13)\n",
    "    # Flatten to fixed size vector\n",
    "    return np.mean(mfcc, axis=1)  # (13,) moyen par MFCC\n",
    "\n",
    "def preprocess_daic_sample(folder_path, window_size=7.6):\n",
    "    transcript_path = os.path.join(folder_path, [f for f in os.listdir(folder_path) if f.endswith('_TRANSCRIPT.csv')][0])\n",
    "    audio_path = os.path.join(folder_path, [f for f in os.listdir(folder_path) if f.endswith('_AUDIO.wav')][0])\n",
    "    \n",
    "    df = pd.read_csv(transcript_path, sep='\\t')\n",
    "    df = df.dropna(subset=[\"value\"])\n",
    "    \n",
    "    samples = []\n",
    "    \n",
    "    for i in range(len(df)):\n",
    "        row = df.iloc[i]\n",
    "        if row['speaker'].lower() == \"participant\":\n",
    "            start = row['start_time']\n",
    "            end = min(start + window_size, row['stop_time'])\n",
    "            sentence = row['value']\n",
    "            \n",
    "            # Texte prétraité en embedding\n",
    "            text_embed = preprocess_text(sentence)  # shape (9, 50)\n",
    "            \n",
    "            # Audio MFCC\n",
    "            mfcc_feat = extract_audio_features(audio_path, start, end)  # shape (13,)\n",
    "            \n",
    "            # Texte de l'intervieweur juste avant\n",
    "            prev_text = \"\"\n",
    "            if i > 0 and df.iloc[i-1]['speaker'].lower() != \"participant\":\n",
    "                prev_text = df.iloc[i-1]['value']\n",
    "            context_embed = preprocess_text(prev_text)\n",
    "            \n",
    "            # On stocke tout\n",
    "            samples.append({\n",
    "                \"text_embedding\": text_embed,\n",
    "                \"context_embedding\": context_embed,\n",
    "                \"mfcc\": mfcc_feat,\n",
    "                \"start\": start,\n",
    "                \"end\": end,\n",
    "                \"text\": sentence,\n",
    "                \"context\": prev_text\n",
    "            })\n",
    "    \n",
    "    return samples\n"
   ]
  },
  {
   "cell_type": "code",
   "execution_count": 5,
   "id": "8f96d91d",
   "metadata": {
    "execution": {
     "iopub.execute_input": "2025-05-08T11:43:26.305878Z",
     "iopub.status.busy": "2025-05-08T11:43:26.305566Z",
     "iopub.status.idle": "2025-05-08T11:43:26.312421Z",
     "shell.execute_reply": "2025-05-08T11:43:26.311362Z"
    },
    "papermill": {
     "duration": 0.411908,
     "end_time": "2025-05-08T11:43:26.314299",
     "exception": false,
     "start_time": "2025-05-08T11:43:25.902391",
     "status": "completed"
    },
    "tags": []
   },
   "outputs": [],
   "source": [
    "def preprocess_all_participants(root_path):\n",
    "    all_samples = []\n",
    "    \n",
    "    for folder_name in os.listdir(root_path):\n",
    "        folder_path = os.path.join(root_path, folder_name)\n",
    "        if os.path.isdir(folder_path) and folder_name.endswith('_P'):\n",
    "            print(f\"Traitement de : {folder_name}\")\n",
    "            try:\n",
    "                samples = preprocess_daic_sample(folder_path)\n",
    "                all_samples.extend(samples)\n",
    "            except Exception as e:\n",
    "                print(f\"Erreur avec {folder_name} : {e}\")\n",
    "    \n",
    "    return all_samples\n"
   ]
  },
  {
   "cell_type": "code",
   "execution_count": 6,
   "id": "f9431bba",
   "metadata": {
    "execution": {
     "iopub.execute_input": "2025-05-08T11:43:27.185724Z",
     "iopub.status.busy": "2025-05-08T11:43:27.185354Z",
     "iopub.status.idle": "2025-05-08T11:44:35.685864Z",
     "shell.execute_reply": "2025-05-08T11:44:35.684548Z"
    },
    "papermill": {
     "duration": 68.899096,
     "end_time": "2025-05-08T11:44:35.688230",
     "exception": false,
     "start_time": "2025-05-08T11:43:26.789134",
     "status": "completed"
    },
    "tags": []
   },
   "outputs": [
    {
     "name": "stdout",
     "output_type": "stream",
     "text": [
      "Traitement de : 357_P\n",
      "Traitement de : 362_P\n",
      "Traitement de : 385_P\n",
      "Traitement de : 360_P\n",
      "Traitement de : 354_P\n",
      "Traitement de : 393_P\n",
      "Total de segments collectés : 441\n"
     ]
    }
   ],
   "source": [
    "root_data_path = \"/kaggle/input/daic-woz/\"\n",
    "all_data = preprocess_all_participants(root_data_path)\n",
    "\n",
    "print(\"Total de segments collectés :\", len(all_data))\n"
   ]
  },
  {
   "cell_type": "code",
   "execution_count": 7,
   "id": "83827000",
   "metadata": {
    "execution": {
     "iopub.execute_input": "2025-05-08T11:44:36.566340Z",
     "iopub.status.busy": "2025-05-08T11:44:36.565992Z",
     "iopub.status.idle": "2025-05-08T11:44:36.572263Z",
     "shell.execute_reply": "2025-05-08T11:44:36.571242Z"
    },
    "papermill": {
     "duration": 0.417122,
     "end_time": "2025-05-08T11:44:36.573946",
     "exception": false,
     "start_time": "2025-05-08T11:44:36.156824",
     "status": "completed"
    },
    "tags": []
   },
   "outputs": [],
   "source": [
    "def save_embeddings(samples, output_path=\"/kaggle/working/daic_preprocessed.npz\"):\n",
    "    texts = np.array([s[\"text_embedding\"] for s in samples])\n",
    "    contexts = np.array([s[\"context_embedding\"] for s in samples])\n",
    "    mfccs = np.array([s[\"mfcc\"] for s in samples])\n",
    "    \n",
    "    np.savez(output_path, text=texts, context=contexts, mfcc=mfccs)\n",
    "    print(\"Embeddings sauvegardés :\", output_path)"
   ]
  },
  {
   "cell_type": "code",
   "execution_count": 8,
   "id": "78fce47d",
   "metadata": {
    "execution": {
     "iopub.execute_input": "2025-05-08T11:44:37.405365Z",
     "iopub.status.busy": "2025-05-08T11:44:37.405017Z",
     "iopub.status.idle": "2025-05-08T11:44:37.423196Z",
     "shell.execute_reply": "2025-05-08T11:44:37.421710Z"
    },
    "papermill": {
     "duration": 0.44788,
     "end_time": "2025-05-08T11:44:37.425245",
     "exception": false,
     "start_time": "2025-05-08T11:44:36.977365",
     "status": "completed"
    },
    "tags": []
   },
   "outputs": [
    {
     "name": "stdout",
     "output_type": "stream",
     "text": [
      "Embeddings sauvegardés : /kaggle/working/daic_preprocessed.npz\n"
     ]
    }
   ],
   "source": [
    "# Sauvegarde\n",
    "save_embeddings(all_data)"
   ]
  },
  {
   "cell_type": "code",
   "execution_count": 9,
   "id": "63ac5e8f",
   "metadata": {
    "execution": {
     "iopub.execute_input": "2025-05-08T11:44:38.316274Z",
     "iopub.status.busy": "2025-05-08T11:44:38.315910Z",
     "iopub.status.idle": "2025-05-08T11:44:40.272696Z",
     "shell.execute_reply": "2025-05-08T11:44:40.271446Z"
    },
    "papermill": {
     "duration": 2.362409,
     "end_time": "2025-05-08T11:44:40.274303",
     "exception": false,
     "start_time": "2025-05-08T11:44:37.911894",
     "status": "completed"
    },
    "tags": []
   },
   "outputs": [
    {
     "name": "stdout",
     "output_type": "stream",
     "text": [
      "Data saved as CSV at /kaggle/working/daic_preprocessed.csv\n"
     ]
    }
   ],
   "source": [
    "import pandas as pd\n",
    "\n",
    "def save_as_dataframe(samples, output_path=\"/kaggle/working/daic_preprocessed.csv\"):\n",
    "    df = pd.DataFrame(samples)\n",
    "    df.to_csv(output_path, index=False)\n",
    "    print(f\"Data saved as CSV at {output_path}\")\n",
    "\n",
    "save_as_dataframe(all_data)"
   ]
  },
  {
   "cell_type": "code",
   "execution_count": null,
   "id": "027cdd9e",
   "metadata": {
    "papermill": {
     "duration": 0.404198,
     "end_time": "2025-05-08T11:44:41.170527",
     "exception": false,
     "start_time": "2025-05-08T11:44:40.766329",
     "status": "completed"
    },
    "tags": []
   },
   "outputs": [],
   "source": []
  }
 ],
 "metadata": {
  "kaggle": {
   "accelerator": "none",
   "dataSources": [
    {
     "datasetId": 7343598,
     "sourceId": 11699724,
     "sourceType": "datasetVersion"
    }
   ],
   "dockerImageVersionId": 31012,
   "isGpuEnabled": false,
   "isInternetEnabled": true,
   "language": "python",
   "sourceType": "notebook"
  },
  "kernelspec": {
   "display_name": "Python 3",
   "language": "python",
   "name": "python3"
  },
  "language_info": {
   "codemirror_mode": {
    "name": "ipython",
    "version": 3
   },
   "file_extension": ".py",
   "mimetype": "text/x-python",
   "name": "python",
   "nbconvert_exporter": "python",
   "pygments_lexer": "ipython3",
   "version": "3.11.11"
  },
  "papermill": {
   "default_parameters": {},
   "duration": 169.452444,
   "end_time": "2025-05-08T11:44:44.241756",
   "environment_variables": {},
   "exception": null,
   "input_path": "__notebook__.ipynb",
   "output_path": "__notebook__.ipynb",
   "parameters": {},
   "start_time": "2025-05-08T11:41:54.789312",
   "version": "2.6.0"
  }
 },
 "nbformat": 4,
 "nbformat_minor": 5
}
